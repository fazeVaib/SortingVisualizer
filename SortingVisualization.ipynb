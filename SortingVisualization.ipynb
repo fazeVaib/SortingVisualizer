{
 "cells": [
  {
   "cell_type": "code",
   "execution_count": 13,
   "metadata": {},
   "outputs": [],
   "source": [
    "import plotly.graph_objects as go\n",
    "import time\n",
    "import random\n",
    "from sortings import *"
   ]
  },
  {
   "cell_type": "markdown",
   "metadata": {},
   "source": [
    "#### Defining data generation function  "
   ]
  },
  {
   "cell_type": "code",
   "execution_count": 6,
   "metadata": {},
   "outputs": [],
   "source": [
    "def generateData(n = 100):\n",
    "    y = [ random.randint(1,250) for i in range(0, n)]\n",
    "    return y"
   ]
  },
  {
   "cell_type": "markdown",
   "metadata": {},
   "source": [
    "#### Bubble Sort Algorithm"
   ]
  },
  {
   "cell_type": "code",
   "execution_count": 7,
   "metadata": {},
   "outputs": [
    {
     "data": {
      "application/vnd.jupyter.widget-view+json": {
       "model_id": "960be477fad34225b5a73eecacad7360",
       "version_major": 2,
       "version_minor": 0
      },
      "text/plain": [
       "FigureWidget({\n",
       "    'data': [{'marker': {'color': [lightslategray, lightslategray, lightslategray,\n",
       "            …"
      ]
     },
     "metadata": {},
     "output_type": "display_data"
    }
   ],
   "source": [
    "colors = ['lightslategray',] * 100\n",
    "data = [go.Bar(\n",
    "            y= generateData(100),\n",
    "            marker_color = colors\n",
    "    )]\n",
    "layout = {'yaxis': {'showgrid':False,\n",
    "                    'showticklabels': False,\n",
    "                   'zeroline' : False},\n",
    "         'xaxis' : {'showgrid' : False,\n",
    "                   'zeroline':False,\n",
    "                   'showticklabels':False},\n",
    "         'plot_bgcolor':'rgba(0,0,0,0)'}\n",
    "fig = go.FigureWidget(data, layout)\n",
    "fig"
   ]
  },
  {
   "cell_type": "code",
   "execution_count": null,
   "metadata": {},
   "outputs": [
    {
     "name": "stdout",
     "output_type": "stream",
     "text": [
      "Bar({\n",
      "    'marker': {'color': [lightslategray, lightslategray, lightslategray,\n",
      "                         lightslategray, lightslategray, lightslategray,\n",
      "                         lightslategray, lightslategray, lightslategray,\n",
      "                         lightslategray, lightslategray, lightslategray,\n",
      "                         lightslategray, lightslategray, lightslategray,\n",
      "                         lightslategray, lightslategray, lightslategray,\n",
      "                         lightslategray, lightslategray, lightslategray,\n",
      "                         lightslategray, lightslategray, lightslategray,\n",
      "                         lightslategray, lightslategray, lightslategray,\n",
      "                         lightslategray, lightslategray, lightslategray,\n",
      "                         lightslategray, lightslategray, lightslategray,\n",
      "                         lightslategray, lightslategray, lightslategray,\n",
      "                         lightslategray, lightslategray, lightslategray,\n",
      "                         lightslategray, lightslategray, lightslategray,\n",
      "                         lightslategray, lightslategray, lightslategray,\n",
      "                         lightslategray, lightslategray, lightslategray,\n",
      "                         lightslategray, lightslategray, lightslategray,\n",
      "                         lightslategray, lightslategray, lightslategray,\n",
      "                         lightslategray, lightslategray, lightslategray,\n",
      "                         lightslategray, lightslategray, lightslategray,\n",
      "                         lightslategray, lightslategray, lightslategray,\n",
      "                         lightslategray, lightslategray, lightslategray,\n",
      "                         lightslategray, lightslategray, lightslategray,\n",
      "                         lightslategray, lightslategray, lightslategray,\n",
      "                         lightslategray, lightslategray, lightslategray,\n",
      "                         lightslategray, lightslategray, lightslategray,\n",
      "                         lightslategray, lightslategray, lightslategray,\n",
      "                         lightslategray, lightslategray, lightslategray,\n",
      "                         lightslategray, lightslategray, lightslategray,\n",
      "                         lightslategray, lightslategray, lightslategray,\n",
      "                         lightslategray, lightslategray, lightslategray,\n",
      "                         lightslategray, lightslategray, lightslategray,\n",
      "                         lightslategray, lightslategray, lightslategray,\n",
      "                         lightslategray]},\n",
      "    'uid': '4be464f2-15a0-4f5b-9917-b595871298eb',\n",
      "    'y': [100, 152, 213, 42, 223, 9, 118, 132, 120, 163, 168, 84, 89, 25, 117, 88,\n",
      "          85, 173, 67, 82, 147, 131, 163, 45, 84, 150, 222, 75, 32, 101, 39, 120,\n",
      "          88, 92, 5, 25, 110, 38, 244, 58, 159, 95, 211, 162, 219, 8, 151, 245, 37,\n",
      "          129, 211, 147, 233, 39, 171, 175, 48, 189, 188, 90, 35, 190, 238, 55,\n",
      "          203, 159, 41, 146, 204, 246, 23, 240, 209, 213, 20, 166, 98, 111, 130,\n",
      "          227, 99, 92, 181, 73, 160, 193, 210, 182, 105, 47, 164, 65, 173, 236, 97,\n",
      "          30, 204, 159, 200, 79]\n",
      "})\n"
     ]
    }
   ],
   "source": [
    "bar = fig.data[0]\n",
    "print(bar)\n",
    "bubbleSort.sort(bar, 100, colors)"
   ]
  }
 ],
 "metadata": {
  "kernelspec": {
   "display_name": "Python 3",
   "language": "python",
   "name": "python3"
  },
  "language_info": {
   "codemirror_mode": {
    "name": "ipython",
    "version": 3
   },
   "file_extension": ".py",
   "mimetype": "text/x-python",
   "name": "python",
   "nbconvert_exporter": "python",
   "pygments_lexer": "ipython3",
   "version": "3.6.6"
  }
 },
 "nbformat": 4,
 "nbformat_minor": 2
}
