{
 "cells": [
  {
   "cell_type": "code",
   "execution_count": 1,
   "metadata": {},
   "outputs": [],
   "source": [
    "import plotly.graph_objects as go\n",
    "from sortings import bubbleSort, insertionSort, quickSort, mergeSort, selectionSort, heapSort\n",
    "from generateData import generateData"
   ]
  },
  {
   "cell_type": "markdown",
   "metadata": {},
   "source": [
    "### Define number of elements needed"
   ]
  },
  {
   "cell_type": "code",
   "execution_count": 2,
   "metadata": {},
   "outputs": [],
   "source": [
    "num = 80"
   ]
  },
  {
   "cell_type": "code",
   "execution_count": 9,
   "metadata": {},
   "outputs": [
    {
     "data": {
      "application/vnd.jupyter.widget-view+json": {
       "model_id": "95bb3b88788248d7919279b7edd57e9a",
       "version_major": 2,
       "version_minor": 0
      },
      "text/plain": [
       "FigureWidget({\n",
       "    'data': [{'marker': {'color': [lightslategray, lightslategray, lightslategray,\n",
       "            …"
      ]
     },
     "metadata": {},
     "output_type": "display_data"
    }
   ],
   "source": [
    "y, colors = generateData(num)\n",
    "data = [go.Bar(\n",
    "            y= y,\n",
    "            marker_color = colors\n",
    "    )]\n",
    "layout = {'yaxis': {'showgrid':False,\n",
    "                    'showticklabels': False,\n",
    "                   'zeroline' : False,\n",
    "                   'fixedrange':True},\n",
    "         'xaxis' : {'showgrid' : False,\n",
    "                   'zeroline':False,\n",
    "                   'showticklabels':False,\n",
    "                    'fixedrange':True,\n",
    "                   'title':'Number of operations: 0'},\n",
    "         'plot_bgcolor':'rgba(0,0,0,0)'}\n",
    "fig = go.FigureWidget(data, layout)\n",
    "# fig.show(config={'displayModeBar':False})\n",
    "fig"
   ]
  },
  {
   "cell_type": "code",
   "execution_count": 4,
   "metadata": {},
   "outputs": [],
   "source": [
    "bar = fig.data[0]\n",
    "lay = fig.layout\n",
    "# print(fig.data[0].y)"
   ]
  },
  {
   "cell_type": "code",
   "execution_count": 5,
   "metadata": {},
   "outputs": [],
   "source": [
    "# bubbleSort.sort(bar, lay, num, colors)\n",
    "# insertionSort.sort(bar, lay, num, colors)\n",
    "# quickSort.sort(bar, lay, num, colors)\n",
    "mergeSort.sort(bar, lay, num, colors)\n",
    "# selectionSort.sort(bar, lay, num, colors)\n",
    "# heapSort.sort(bar, lay, num, colors)"
   ]
  }
 ],
 "metadata": {
  "kernelspec": {
   "display_name": "Python 3",
   "language": "python",
   "name": "python3"
  },
  "language_info": {
   "codemirror_mode": {
    "name": "ipython",
    "version": 3
   },
   "file_extension": ".py",
   "mimetype": "text/x-python",
   "name": "python",
   "nbconvert_exporter": "python",
   "pygments_lexer": "ipython3",
   "version": "3.6.6"
  }
 },
 "nbformat": 4,
 "nbformat_minor": 2
}
