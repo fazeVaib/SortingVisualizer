{
 "cells": [
  {
   "cell_type": "code",
   "execution_count": 11,
   "metadata": {},
   "outputs": [],
   "source": [
    "import plotly.graph_objects as go\n",
    "from sortings import bubbleSort\n",
    "from generateData import generateData"
   ]
  },
  {
   "cell_type": "markdown",
   "metadata": {},
   "source": [
    "### Define number of elements needed"
   ]
  },
  {
   "cell_type": "code",
   "execution_count": 7,
   "metadata": {},
   "outputs": [],
   "source": [
    "num = 50"
   ]
  },
  {
   "cell_type": "code",
   "execution_count": 8,
   "metadata": {},
   "outputs": [
    {
     "data": {
      "application/vnd.jupyter.widget-view+json": {
       "model_id": "f9371b5c9f754630b4394ab341a69486",
       "version_major": 2,
       "version_minor": 0
      },
      "text/plain": [
       "FigureWidget({\n",
       "    'data': [{'marker': {'color': [lightslategray, lightslategray, lightslategray,\n",
       "            …"
      ]
     },
     "metadata": {},
     "output_type": "display_data"
    }
   ],
   "source": [
    "y, colors = generateData(num)\n",
    "data = [go.Bar(\n",
    "            y= y,\n",
    "            marker_color = colors\n",
    "    )]\n",
    "layout = {'yaxis': {'showgrid':False,\n",
    "                    'showticklabels': False,\n",
    "                   'zeroline' : False},\n",
    "         'xaxis' : {'showgrid' : False,\n",
    "                   'zeroline':False,\n",
    "                   'showticklabels':False,\n",
    "                   'title':'Number of operations: 0'},\n",
    "         'plot_bgcolor':'rgba(0,0,0,0)'}\n",
    "fig = go.FigureWidget(data, layout)\n",
    "fig"
   ]
  },
  {
   "cell_type": "code",
   "execution_count": 9,
   "metadata": {},
   "outputs": [],
   "source": [
    "bar = fig.data[0]\n",
    "lay = fig.layout\n",
    "# print(fig)"
   ]
  },
  {
   "cell_type": "code",
   "execution_count": 10,
   "metadata": {},
   "outputs": [],
   "source": [
    "bubbleSort.sort(bar, lay, num, colors)"
   ]
  }
 ],
 "metadata": {
  "kernelspec": {
   "display_name": "Python 3",
   "language": "python",
   "name": "python3"
  },
  "language_info": {
   "codemirror_mode": {
    "name": "ipython",
    "version": 3
   },
   "file_extension": ".py",
   "mimetype": "text/x-python",
   "name": "python",
   "nbconvert_exporter": "python",
   "pygments_lexer": "ipython3",
   "version": "3.6.6"
  }
 },
 "nbformat": 4,
 "nbformat_minor": 2
}
