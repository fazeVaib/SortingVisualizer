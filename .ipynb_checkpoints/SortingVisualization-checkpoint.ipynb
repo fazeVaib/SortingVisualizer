{
 "cells": [
  {
   "cell_type": "code",
   "execution_count": 1,
   "metadata": {},
   "outputs": [],
   "source": [
    "import plotly.graph_objects as go\n",
    "import time\n",
    "import random"
   ]
  },
  {
   "cell_type": "markdown",
   "metadata": {},
   "source": [
    "#### Defining data generation function  "
   ]
  },
  {
   "cell_type": "code",
   "execution_count": 2,
   "metadata": {},
   "outputs": [],
   "source": [
    "def generateData(n = 100):\n",
    "    y = [ random.randint(1,250) for i in range(0, n)]\n",
    "    return y"
   ]
  },
  {
   "cell_type": "markdown",
   "metadata": {},
   "source": [
    "#### Bubble Sort Algorithm"
   ]
  },
  {
   "cell_type": "code",
   "execution_count": 26,
   "metadata": {},
   "outputs": [],
   "source": [
    "def bubbleSort(bar, num, colors):\n",
    "    \n",
    "    data = list(bar.y)\n",
    "    \n",
    "    for i in range(num):\n",
    "        for j in range(num-i-1):\n",
    "            \n",
    "            if data[j] > data[j+1] :\n",
    "                colors[j] = 'crimson'\n",
    "                colors[j+1] = 'crimson'\n",
    "                \n",
    "                time.sleep(0.1)\n",
    "                \n",
    "                bar.marker.color = colors\n",
    "                \n",
    "                data[j], data[j+1] = data[j+1], data[j]\n",
    "                \n",
    "                bar.y = tuple(data)\n",
    "                \n",
    "            else:\n",
    "                colors[j] = 'green'\n",
    "                colors[j+1] = 'green'\n",
    "                \n",
    "                time.sleep(0.1)\n",
    "                \n",
    "                bar.marker.color = colors\n",
    "                \n",
    "            colors[j] = 'lightslategray'\n",
    "            colors[j+1] = 'lightslategray'\n",
    "                \n",
    "            time.sleep(0.1)\n",
    "            \n",
    "            bar.marker.color = colors\n",
    "        \n",
    "        colors[num-i-1] = 'blue'\n",
    "        bar.marker.color = colors"
   ]
  },
  {
   "cell_type": "code",
   "execution_count": 27,
   "metadata": {},
   "outputs": [
    {
     "data": {
      "application/vnd.jupyter.widget-view+json": {
       "model_id": "ca893413559f4ce59f11aac3deb47226",
       "version_major": 2,
       "version_minor": 0
      },
      "text/plain": [
       "FigureWidget({\n",
       "    'data': [{'marker': {'color': [lightslategray, lightslategray, lightslategray,\n",
       "            …"
      ]
     },
     "metadata": {},
     "output_type": "display_data"
    }
   ],
   "source": [
    "colors = ['lightslategray',] * 30\n",
    "data = [go.Bar(\n",
    "            y= generateData(30),\n",
    "            marker_color = colors\n",
    "    )]\n",
    "layout = {'yaxis': {'showgrid':False,\n",
    "                    'showticklabels': False,\n",
    "                   'zeroline' : False},\n",
    "         'xaxis' : {'showgrid' : False,\n",
    "                   'zeroline':False,\n",
    "                   'showticklabels':False},\n",
    "         'plot_bgcolor':'rgba(0,0,0,0)'}\n",
    "fig = go.FigureWidget(data, layout)\n",
    "fig\n",
    "\n"
   ]
  },
  {
   "cell_type": "code",
   "execution_count": 28,
   "metadata": {},
   "outputs": [],
   "source": [
    "bar = fig.data[0]\n",
    "bubbleSort(bar, 30, colors)"
   ]
  }
 ],
 "metadata": {
  "kernelspec": {
   "display_name": "Python 3",
   "language": "python",
   "name": "python3"
  },
  "language_info": {
   "codemirror_mode": {
    "name": "ipython",
    "version": 3
   },
   "file_extension": ".py",
   "mimetype": "text/x-python",
   "name": "python",
   "nbconvert_exporter": "python",
   "pygments_lexer": "ipython3",
   "version": "3.6.6"
  }
 },
 "nbformat": 4,
 "nbformat_minor": 2
}
